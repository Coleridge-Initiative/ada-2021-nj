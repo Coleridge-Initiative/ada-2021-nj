{
 "cells": [
  {
   "cell_type": "markdown",
   "metadata": {},
   "source": [
    "<center> <img style=\"float: center;\" src=\"images/CI_horizontal.png\" width=\"450\">\n",
    "<center>\n",
    "    <span style=\"font-size: 1.5em;\">\n",
    "        <a href='https://www.coleridgeinitiative.org'>Website</a>\n",
    "    </span> "
   ]
  },
  {
   "cell_type": "markdown",
   "metadata": {},
   "source": [
    "# <center>**Disclosure Review Example for Video**</center>\n",
    "<a href=\"https://doi.org/10.5281/zenodo.6399359\"><img src=\"https://zenodo.org/badge/DOI/10.5281/zenodo.6399359.svg\" alt=\"DOI\"></a>\n",
    "\n",
    "<center> Benjamin Feder </center>"
   ]
  },
  {
   "cell_type": "markdown",
   "metadata": {},
   "source": [
    "As a reminder, this data is publicly available and is a built-in dataset for R. You can learn more about `mtcars` by viewing its help documentation. For this example, we will assume that each car, rather than the individual, is our unit of analysis of interest (at least 10 cars per group)."
   ]
  },
  {
   "cell_type": "code",
   "execution_count": null,
   "metadata": {},
   "outputs": [],
   "source": [
    "# learn about cars dataset\n",
    "?mtcars"
   ]
  },
  {
   "cell_type": "code",
   "execution_count": null,
   "metadata": {},
   "outputs": [],
   "source": [
    "# load tidyverse\n",
    "library(tidyverse)"
   ]
  },
  {
   "cell_type": "code",
   "execution_count": null,
   "metadata": {},
   "outputs": [],
   "source": [
    "# see mtcars dataset (public data available in R)\n",
    "head(mtcars)"
   ]
  },
  {
   "cell_type": "code",
   "execution_count": null,
   "metadata": {},
   "outputs": [],
   "source": [
    "# find median miles per gallon by transmission type\n",
    "transmission_mpg <- mtcars %>% \n",
    "    group_by(am) %>%\n",
    "    summarize(\n",
    "        median_mpg = median(mpg)\n",
    "    )\n",
    "\n",
    "transmission_mpg"
   ]
  },
  {
   "cell_type": "markdown",
   "metadata": {},
   "source": [
    "As you may recall from the Disclosure Review notebook, you are not permitted to export true medians, or any percentiles. As a proxy, you can export \"fuzzy medians,\" which we will calculate and use for the remainder of this example."
   ]
  },
  {
   "cell_type": "code",
   "execution_count": null,
   "metadata": {},
   "outputs": [],
   "source": [
    "# find fuzzy median miles per gallon by transmission type\n",
    "transmission_mpg_fuzzy <- mtcars %>% \n",
    "    group_by(am) %>%\n",
    "    summarize(\n",
    "        fuzzy_mpg = (quantile(mpg, .45) + quantile(mpg, .55))/2\n",
    "    )\n",
    "\n",
    "transmission_mpg_fuzzy"
   ]
  },
  {
   "cell_type": "code",
   "execution_count": null,
   "metadata": {},
   "outputs": [],
   "source": [
    "# provide underlying counts per group\n",
    "counts_per_group <- mtcars %>% \n",
    "    count(am)\n",
    "\n",
    "counts_per_group"
   ]
  },
  {
   "cell_type": "code",
   "execution_count": null,
   "metadata": {},
   "outputs": [],
   "source": [
    "# bar plot of fuzzy median miles per gallon by transmission type\n",
    "transmission_mpg_plot <- transmission_mpg_fuzzy %>%\n",
    "    ggplot(aes(x= fuzzy_mpg, y =as.character(am))) +\n",
    "    geom_col()\n",
    "\n",
    "transmission_mpg_plot"
   ]
  },
  {
   "cell_type": "markdown",
   "metadata": {},
   "source": [
    "Now that we have confirmed that this visualization will pass the disclosure review process to the best of our knowledge, we will save the image as well as the underlying counts for export."
   ]
  },
  {
   "cell_type": "code",
   "execution_count": null,
   "metadata": {},
   "outputs": [],
   "source": [
    "# write table as a csv, insert name for \"..\"\n",
    "write.csv(counts_per_group, \"U:\\\\..\\\\NJ Training\\\\Results\\\\counts_per_group.csv\", row.names=F)"
   ]
  },
  {
   "cell_type": "code",
   "execution_count": null,
   "metadata": {},
   "outputs": [],
   "source": [
    "# write graph as png\n",
    "png(\"U:\\\\..\\\\NJ Training\\\\Results\\\\transmissions_mpg_plot.png\", width=12, height=8, units=\"in\", res=150)\n",
    "print(transmission_mpg_plot)\n",
    "dev.off()"
   ]
  }
 ],
 "metadata": {
  "kernelspec": {
   "display_name": "R",
   "language": "R",
   "name": "ir"
  },
  "language_info": {
   "codemirror_mode": "r",
   "file_extension": ".r",
   "mimetype": "text/x-r-source",
   "name": "R",
   "pygments_lexer": "r",
   "version": "3.6.3"
  }
 },
 "nbformat": 4,
 "nbformat_minor": 4
}
